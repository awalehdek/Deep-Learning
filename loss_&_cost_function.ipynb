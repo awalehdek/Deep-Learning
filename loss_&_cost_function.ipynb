{
  "nbformat": 4,
  "nbformat_minor": 0,
  "metadata": {
    "colab": {
      "provenance": []
    },
    "kernelspec": {
      "name": "python3",
      "display_name": "Python 3"
    },
    "language_info": {
      "name": "python"
    }
  },
  "cells": [
    {
      "cell_type": "code",
      "source": [
        "import numpy as np"
      ],
      "metadata": {
        "id": "cgV7FddSM7EF"
      },
      "execution_count": null,
      "outputs": []
    },
    {
      "cell_type": "code",
      "execution_count": 2,
      "metadata": {
        "id": "me2nyzVsKMYR"
      },
      "outputs": [],
      "source": [
        "\n",
        "# Define new predicted and true values\n",
        "y_predicted = np.array([0.2, 0.8, 0.6, 0.1, 0.4])\n",
        "y_true = np.array([0.1, 0.9, 0.5, 0.2, 0.3])"
      ]
    },
    {
      "cell_type": "code",
      "source": [
        "\n",
        "# Implement Mean Squared Error\n",
        "def mse(y_predicted, y_true):\n",
        "    total_error = 0  # Initialize the total error to zero\n",
        "    # Iterate over predicted and true values\n",
        "    for yp, yt in zip(y_predicted, y_true):\n",
        "        total_error += (yp - yt) ** 2  # Add squared difference to total error\n",
        "    print(\"Total error is:\", total_error)  # Print total error\n",
        "    mse = total_error / len(y_predicted)  # Calculate mean squared error\n",
        "    print(\"Mean squared error is:\", mse)  # Print mean squared error\n",
        "    return mse  # Return mean squared error\n",
        "\n"
      ],
      "metadata": {
        "id": "1B7L96tBNBXn"
      },
      "execution_count": 3,
      "outputs": []
    },
    {
      "cell_type": "code",
      "source": [
        "mse(y_predicted, y_true)  # Call the mse function"
      ],
      "metadata": {
        "colab": {
          "base_uri": "https://localhost:8080/"
        },
        "id": "iEpboWSoNBcI",
        "outputId": "55cc7ac6-fcaa-402c-f997-4f7afb700e32"
      },
      "execution_count": 4,
      "outputs": [
        {
          "output_type": "stream",
          "name": "stdout",
          "text": [
            "Total error is: 0.05\n",
            "Mean squared error is: 0.01\n"
          ]
        },
        {
          "output_type": "execute_result",
          "data": {
            "text/plain": [
              "0.01"
            ]
          },
          "metadata": {},
          "execution_count": 4
        }
      ]
    },
    {
      "cell_type": "code",
      "source": [
        "# Implement the same thing using numpy in a much easier way\n",
        "squared_errors = np.square(y_predicted - y_true)  # Calculate squared differences\n",
        "print(squared_errors)  # Print squared differences"
      ],
      "metadata": {
        "colab": {
          "base_uri": "https://localhost:8080/"
        },
        "id": "LJIeEQR2NBfj",
        "outputId": "4ee31476-6f93-478e-ffbb-e31397d7bdfd"
      },
      "execution_count": 5,
      "outputs": [
        {
          "output_type": "stream",
          "name": "stdout",
          "text": [
            "[0.01 0.01 0.01 0.01 0.01]\n"
          ]
        }
      ]
    },
    {
      "cell_type": "code",
      "source": [
        "mean_squared_error = np.mean(squared_errors)  # Calculate mean squared error\n",
        "print(mean_squared_error)  # Print mean squared error"
      ],
      "metadata": {
        "colab": {
          "base_uri": "https://localhost:8080/"
        },
        "id": "fhB4NOIzNBh4",
        "outputId": "d0154940-f301-4e74-dd21-e162108be3ed"
      },
      "execution_count": 6,
      "outputs": [
        {
          "output_type": "stream",
          "name": "stdout",
          "text": [
            "0.01\n"
          ]
        }
      ]
    },
    {
      "cell_type": "code",
      "source": [
        "\n",
        "# Define a function using numpy to calculate mean squared error\n",
        "def mse_np(y_predicted, y_true):\n",
        "  # Return mean of squared differences\n",
        "    return np.mean(np.square(y_predicted - y_true))\n"
      ],
      "metadata": {
        "id": "h2V5zrUUNVE_"
      },
      "execution_count": 8,
      "outputs": []
    },
    {
      "cell_type": "code",
      "source": [
        "# Call the mse_np function\n",
        "print(mse_np(y_predicted, y_true))"
      ],
      "metadata": {
        "colab": {
          "base_uri": "https://localhost:8080/"
        },
        "id": "sO7BUl3ZNVH-",
        "outputId": "114b87f3-a21d-442a-b4f6-ab2299339014"
      },
      "execution_count": 9,
      "outputs": [
        {
          "output_type": "stream",
          "name": "stdout",
          "text": [
            "0.01\n"
          ]
        }
      ]
    },
    {
      "cell_type": "code",
      "source": [
        "# Implement Log Loss or Binary Cross Entropy\n",
        "# Small constant to avoid log(0)\n",
        "epsilon = 1e-15"
      ],
      "metadata": {
        "id": "1K7fGKR6NVK3"
      },
      "execution_count": 7,
      "outputs": []
    },
    {
      "cell_type": "code",
      "source": [
        "# Ensure predicted values are within valid range\n",
        "y_predicted_new = [max(i, epsilon) for i in y_predicted]\n",
        "y_predicted_new = [min(i, 1 - epsilon) for i in y_predicted_new]\n",
        " # Convert list back to numpy array\n",
        "y_predicted_new = np.array(y_predicted_new)"
      ],
      "metadata": {
        "id": "Oi9g7aNdNVOk"
      },
      "execution_count": 10,
      "outputs": []
    },
    {
      "cell_type": "code",
      "source": [
        "# Calculate log loss using numpy\n",
        "log_loss_value = -np.mean(y_true * np.log(y_predicted_new) + (1 - y_true) * np.log(1 - y_predicted_new))\n",
        "# Print log loss\n",
        "print(log_loss_value)"
      ],
      "metadata": {
        "colab": {
          "base_uri": "https://localhost:8080/"
        },
        "id": "QYZbuey9NVSS",
        "outputId": "b0633c4a-6af5-493d-8734-4e2e69bf4b67"
      },
      "execution_count": 11,
      "outputs": [
        {
          "output_type": "stream",
          "name": "stdout",
          "text": [
            "0.5228749479991961\n"
          ]
        }
      ]
    },
    {
      "cell_type": "code",
      "source": [
        "# Define a function to calculate log loss\n",
        "def log_loss(y_true, y_predicted):\n",
        "  # Ensure predicted values are >= epsilon\n",
        "    y_predicted_new = [max(i, epsilon) for i in y_predicted]\n",
        "     # Ensure predicted values are <= 1 - epsilon\n",
        "    y_predicted_new = [min(i, 1 - epsilon) for i in y_predicted_new]\n",
        "    # Convert list back to numpy array\n",
        "    y_predicted_new = np.array(y_predicted_new)\n",
        "    # Calculate and return log loss\n",
        "    return -np.mean(y_true * np.log(y_predicted_new) + (1 - y_true) * np.log(1 - y_predicted_new))\n"
      ],
      "metadata": {
        "id": "4aGBwh7XNVZ_"
      },
      "execution_count": 13,
      "outputs": []
    },
    {
      "cell_type": "code",
      "source": [
        " # Call the log_loss function\n",
        "print(log_loss(y_true, y_predicted))"
      ],
      "metadata": {
        "colab": {
          "base_uri": "https://localhost:8080/"
        },
        "id": "ZzWHLEqrNVc4",
        "outputId": "eedbb722-24df-4c50-cfa5-30a429004577"
      },
      "execution_count": 14,
      "outputs": [
        {
          "output_type": "stream",
          "name": "stdout",
          "text": [
            "0.5228749479991961\n"
          ]
        }
      ]
    }
  ]
}