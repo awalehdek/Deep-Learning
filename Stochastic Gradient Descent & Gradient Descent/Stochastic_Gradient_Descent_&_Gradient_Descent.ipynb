{
  "cells": [
    {
      "cell_type": "markdown",
      "metadata": {
        "id": "DRlOha8sGUeR"
      },
      "source": [
        "<h2 style='color:blue' align='center'>Implementation of stochastic and batch grandient descent in python</h2>"
      ]
    },
    {
      "cell_type": "markdown",
      "metadata": {
        "id": "N9MwGkxAGUeX"
      },
      "source": [
        "Implementing Batch and Stochastic Gradient Descent in Python\n",
        "We will use a simple home prices dataset to demonstrate the implementation of both batch and stochastic gradient descent in Python. These two methods differ in how they process training data and update model weights:\n",
        "\n",
        "Batch Gradient Descent:\n",
        "- Uses all training samples in each forward pass\n",
        "- Calculates cumulative error across the entire dataset\n",
        "- Adjusts weights based on derivatives computed from the total error\n",
        "\n",
        "Stochastic Gradient Descent:\n",
        "- Randomly selects one training sample at a time\n",
        "- Performs a forward pass on the selected sample\n",
        "- Computes the error for that single sample\n",
        "- Immediately adjusts weights based on this individual sample's error\n",
        "\n",
        "The key distinction lies in the scope of data used for weight updates:\n",
        "- Batch GD utilizes the entire training set for each weight adjustment\n",
        "- Stochastic GD uses a single, randomly chosen training sample for each update\n",
        "\n",
        "This difference affects the convergence behavior, computational efficiency, and potential for escaping local minima in the optimization process."
      ]
    },
    {
      "cell_type": "code",
      "execution_count": 29,
      "metadata": {
        "id": "VWhnsh96GUeZ"
      },
      "outputs": [],
      "source": []
    },
    {
      "cell_type": "markdown",
      "metadata": {
        "id": "Sy87H8niGUed"
      },
      "source": [
        "##### Load the dataset in pandas dataframe"
      ]
    },
    {
      "cell_type": "code",
      "execution_count": 30,
      "metadata": {
        "colab": {
          "base_uri": "https://localhost:8080/",
          "height": 206
        },
        "id": "QyVCZmrdGUee",
        "outputId": "d982adda-1756-45bb-a0d1-4549afa1b457"
      },
      "outputs": [
        {
          "output_type": "execute_result",
          "data": {
            "text/plain": [
              "    area   bedrooms   price\n",
              "4     850          2   1707\n",
              "19    550          1   2289\n",
              "1    1800          4   2962\n",
              "18   1300          3   1707\n",
              "6    2000          4   2463"
            ],
            "text/html": [
              "\n",
              "  <div id=\"df-f9ce113e-6f34-4725-90b6-fe1d09c821db\" class=\"colab-df-container\">\n",
              "    <div>\n",
              "<style scoped>\n",
              "    .dataframe tbody tr th:only-of-type {\n",
              "        vertical-align: middle;\n",
              "    }\n",
              "\n",
              "    .dataframe tbody tr th {\n",
              "        vertical-align: top;\n",
              "    }\n",
              "\n",
              "    .dataframe thead th {\n",
              "        text-align: right;\n",
              "    }\n",
              "</style>\n",
              "<table border=\"1\" class=\"dataframe\">\n",
              "  <thead>\n",
              "    <tr style=\"text-align: right;\">\n",
              "      <th></th>\n",
              "      <th>area</th>\n",
              "      <th>bedrooms</th>\n",
              "      <th>price</th>\n",
              "    </tr>\n",
              "  </thead>\n",
              "  <tbody>\n",
              "    <tr>\n",
              "      <th>4</th>\n",
              "      <td>850</td>\n",
              "      <td>2</td>\n",
              "      <td>1707</td>\n",
              "    </tr>\n",
              "    <tr>\n",
              "      <th>19</th>\n",
              "      <td>550</td>\n",
              "      <td>1</td>\n",
              "      <td>2289</td>\n",
              "    </tr>\n",
              "    <tr>\n",
              "      <th>1</th>\n",
              "      <td>1800</td>\n",
              "      <td>4</td>\n",
              "      <td>2962</td>\n",
              "    </tr>\n",
              "    <tr>\n",
              "      <th>18</th>\n",
              "      <td>1300</td>\n",
              "      <td>3</td>\n",
              "      <td>1707</td>\n",
              "    </tr>\n",
              "    <tr>\n",
              "      <th>6</th>\n",
              "      <td>2000</td>\n",
              "      <td>4</td>\n",
              "      <td>2463</td>\n",
              "    </tr>\n",
              "  </tbody>\n",
              "</table>\n",
              "</div>\n",
              "    <div class=\"colab-df-buttons\">\n",
              "\n",
              "  <div class=\"colab-df-container\">\n",
              "    <button class=\"colab-df-convert\" onclick=\"convertToInteractive('df-f9ce113e-6f34-4725-90b6-fe1d09c821db')\"\n",
              "            title=\"Convert this dataframe to an interactive table.\"\n",
              "            style=\"display:none;\">\n",
              "\n",
              "  <svg xmlns=\"http://www.w3.org/2000/svg\" height=\"24px\" viewBox=\"0 -960 960 960\">\n",
              "    <path d=\"M120-120v-720h720v720H120Zm60-500h600v-160H180v160Zm220 220h160v-160H400v160Zm0 220h160v-160H400v160ZM180-400h160v-160H180v160Zm440 0h160v-160H620v160ZM180-180h160v-160H180v160Zm440 0h160v-160H620v160Z\"/>\n",
              "  </svg>\n",
              "    </button>\n",
              "\n",
              "  <style>\n",
              "    .colab-df-container {\n",
              "      display:flex;\n",
              "      gap: 12px;\n",
              "    }\n",
              "\n",
              "    .colab-df-convert {\n",
              "      background-color: #E8F0FE;\n",
              "      border: none;\n",
              "      border-radius: 50%;\n",
              "      cursor: pointer;\n",
              "      display: none;\n",
              "      fill: #1967D2;\n",
              "      height: 32px;\n",
              "      padding: 0 0 0 0;\n",
              "      width: 32px;\n",
              "    }\n",
              "\n",
              "    .colab-df-convert:hover {\n",
              "      background-color: #E2EBFA;\n",
              "      box-shadow: 0px 1px 2px rgba(60, 64, 67, 0.3), 0px 1px 3px 1px rgba(60, 64, 67, 0.15);\n",
              "      fill: #174EA6;\n",
              "    }\n",
              "\n",
              "    .colab-df-buttons div {\n",
              "      margin-bottom: 4px;\n",
              "    }\n",
              "\n",
              "    [theme=dark] .colab-df-convert {\n",
              "      background-color: #3B4455;\n",
              "      fill: #D2E3FC;\n",
              "    }\n",
              "\n",
              "    [theme=dark] .colab-df-convert:hover {\n",
              "      background-color: #434B5C;\n",
              "      box-shadow: 0px 1px 3px 1px rgba(0, 0, 0, 0.15);\n",
              "      filter: drop-shadow(0px 1px 2px rgba(0, 0, 0, 0.3));\n",
              "      fill: #FFFFFF;\n",
              "    }\n",
              "  </style>\n",
              "\n",
              "    <script>\n",
              "      const buttonEl =\n",
              "        document.querySelector('#df-f9ce113e-6f34-4725-90b6-fe1d09c821db button.colab-df-convert');\n",
              "      buttonEl.style.display =\n",
              "        google.colab.kernel.accessAllowed ? 'block' : 'none';\n",
              "\n",
              "      async function convertToInteractive(key) {\n",
              "        const element = document.querySelector('#df-f9ce113e-6f34-4725-90b6-fe1d09c821db');\n",
              "        const dataTable =\n",
              "          await google.colab.kernel.invokeFunction('convertToInteractive',\n",
              "                                                    [key], {});\n",
              "        if (!dataTable) return;\n",
              "\n",
              "        const docLinkHtml = 'Like what you see? Visit the ' +\n",
              "          '<a target=\"_blank\" href=https://colab.research.google.com/notebooks/data_table.ipynb>data table notebook</a>'\n",
              "          + ' to learn more about interactive tables.';\n",
              "        element.innerHTML = '';\n",
              "        dataTable['output_type'] = 'display_data';\n",
              "        await google.colab.output.renderOutput(dataTable, element);\n",
              "        const docLink = document.createElement('div');\n",
              "        docLink.innerHTML = docLinkHtml;\n",
              "        element.appendChild(docLink);\n",
              "      }\n",
              "    </script>\n",
              "  </div>\n",
              "\n",
              "\n",
              "<div id=\"df-69302c69-4362-41ea-986b-2e72b6a9057f\">\n",
              "  <button class=\"colab-df-quickchart\" onclick=\"quickchart('df-69302c69-4362-41ea-986b-2e72b6a9057f')\"\n",
              "            title=\"Suggest charts\"\n",
              "            style=\"display:none;\">\n",
              "\n",
              "<svg xmlns=\"http://www.w3.org/2000/svg\" height=\"24px\"viewBox=\"0 0 24 24\"\n",
              "     width=\"24px\">\n",
              "    <g>\n",
              "        <path d=\"M19 3H5c-1.1 0-2 .9-2 2v14c0 1.1.9 2 2 2h14c1.1 0 2-.9 2-2V5c0-1.1-.9-2-2-2zM9 17H7v-7h2v7zm4 0h-2V7h2v10zm4 0h-2v-4h2v4z\"/>\n",
              "    </g>\n",
              "</svg>\n",
              "  </button>\n",
              "\n",
              "<style>\n",
              "  .colab-df-quickchart {\n",
              "      --bg-color: #E8F0FE;\n",
              "      --fill-color: #1967D2;\n",
              "      --hover-bg-color: #E2EBFA;\n",
              "      --hover-fill-color: #174EA6;\n",
              "      --disabled-fill-color: #AAA;\n",
              "      --disabled-bg-color: #DDD;\n",
              "  }\n",
              "\n",
              "  [theme=dark] .colab-df-quickchart {\n",
              "      --bg-color: #3B4455;\n",
              "      --fill-color: #D2E3FC;\n",
              "      --hover-bg-color: #434B5C;\n",
              "      --hover-fill-color: #FFFFFF;\n",
              "      --disabled-bg-color: #3B4455;\n",
              "      --disabled-fill-color: #666;\n",
              "  }\n",
              "\n",
              "  .colab-df-quickchart {\n",
              "    background-color: var(--bg-color);\n",
              "    border: none;\n",
              "    border-radius: 50%;\n",
              "    cursor: pointer;\n",
              "    display: none;\n",
              "    fill: var(--fill-color);\n",
              "    height: 32px;\n",
              "    padding: 0;\n",
              "    width: 32px;\n",
              "  }\n",
              "\n",
              "  .colab-df-quickchart:hover {\n",
              "    background-color: var(--hover-bg-color);\n",
              "    box-shadow: 0 1px 2px rgba(60, 64, 67, 0.3), 0 1px 3px 1px rgba(60, 64, 67, 0.15);\n",
              "    fill: var(--button-hover-fill-color);\n",
              "  }\n",
              "\n",
              "  .colab-df-quickchart-complete:disabled,\n",
              "  .colab-df-quickchart-complete:disabled:hover {\n",
              "    background-color: var(--disabled-bg-color);\n",
              "    fill: var(--disabled-fill-color);\n",
              "    box-shadow: none;\n",
              "  }\n",
              "\n",
              "  .colab-df-spinner {\n",
              "    border: 2px solid var(--fill-color);\n",
              "    border-color: transparent;\n",
              "    border-bottom-color: var(--fill-color);\n",
              "    animation:\n",
              "      spin 1s steps(1) infinite;\n",
              "  }\n",
              "\n",
              "  @keyframes spin {\n",
              "    0% {\n",
              "      border-color: transparent;\n",
              "      border-bottom-color: var(--fill-color);\n",
              "      border-left-color: var(--fill-color);\n",
              "    }\n",
              "    20% {\n",
              "      border-color: transparent;\n",
              "      border-left-color: var(--fill-color);\n",
              "      border-top-color: var(--fill-color);\n",
              "    }\n",
              "    30% {\n",
              "      border-color: transparent;\n",
              "      border-left-color: var(--fill-color);\n",
              "      border-top-color: var(--fill-color);\n",
              "      border-right-color: var(--fill-color);\n",
              "    }\n",
              "    40% {\n",
              "      border-color: transparent;\n",
              "      border-right-color: var(--fill-color);\n",
              "      border-top-color: var(--fill-color);\n",
              "    }\n",
              "    60% {\n",
              "      border-color: transparent;\n",
              "      border-right-color: var(--fill-color);\n",
              "    }\n",
              "    80% {\n",
              "      border-color: transparent;\n",
              "      border-right-color: var(--fill-color);\n",
              "      border-bottom-color: var(--fill-color);\n",
              "    }\n",
              "    90% {\n",
              "      border-color: transparent;\n",
              "      border-bottom-color: var(--fill-color);\n",
              "    }\n",
              "  }\n",
              "</style>\n",
              "\n",
              "  <script>\n",
              "    async function quickchart(key) {\n",
              "      const quickchartButtonEl =\n",
              "        document.querySelector('#' + key + ' button');\n",
              "      quickchartButtonEl.disabled = true;  // To prevent multiple clicks.\n",
              "      quickchartButtonEl.classList.add('colab-df-spinner');\n",
              "      try {\n",
              "        const charts = await google.colab.kernel.invokeFunction(\n",
              "            'suggestCharts', [key], {});\n",
              "      } catch (error) {\n",
              "        console.error('Error during call to suggestCharts:', error);\n",
              "      }\n",
              "      quickchartButtonEl.classList.remove('colab-df-spinner');\n",
              "      quickchartButtonEl.classList.add('colab-df-quickchart-complete');\n",
              "    }\n",
              "    (() => {\n",
              "      let quickchartButtonEl =\n",
              "        document.querySelector('#df-69302c69-4362-41ea-986b-2e72b6a9057f button');\n",
              "      quickchartButtonEl.style.display =\n",
              "        google.colab.kernel.accessAllowed ? 'block' : 'none';\n",
              "    })();\n",
              "  </script>\n",
              "</div>\n",
              "\n",
              "    </div>\n",
              "  </div>\n"
            ],
            "application/vnd.google.colaboratory.intrinsic+json": {
              "type": "dataframe",
              "summary": "{\n  \"name\": \"df\",\n  \"rows\": 5,\n  \"fields\": [\n    {\n      \"column\": \"area \",\n      \"properties\": {\n        \"dtype\": \"number\",\n        \"std\": 613,\n        \"min\": 550,\n        \"max\": 2000,\n        \"num_unique_values\": 5,\n        \"samples\": [\n          550,\n          2000,\n          1800\n        ],\n        \"semantic_type\": \"\",\n        \"description\": \"\"\n      }\n    },\n    {\n      \"column\": \"bedrooms \",\n      \"properties\": {\n        \"dtype\": \"number\",\n        \"std\": 1,\n        \"min\": 1,\n        \"max\": 4,\n        \"num_unique_values\": 4,\n        \"samples\": [\n          1,\n          3,\n          2\n        ],\n        \"semantic_type\": \"\",\n        \"description\": \"\"\n      }\n    },\n    {\n      \"column\": \"price\",\n      \"properties\": {\n        \"dtype\": \"number\",\n        \"std\": 533,\n        \"min\": 1707,\n        \"max\": 2962,\n        \"num_unique_values\": 4,\n        \"samples\": [\n          2289,\n          2463,\n          1707\n        ],\n        \"semantic_type\": \"\",\n        \"description\": \"\"\n      }\n    }\n  ]\n}"
            }
          },
          "metadata": {},
          "execution_count": 30
        }
      ],
      "source": [
        "\n",
        "df = pd.read_csv(\"/content/sample_data/Austin_Texas.csv\")\n",
        "df.sample(5)\n"
      ]
    },
    {
      "cell_type": "markdown",
      "metadata": {
        "id": "z4EeynyvGUef"
      },
      "source": [
        "##### Preprocessing/Scaling: Since our columns are on different sacle it is important to perform scaling on them"
      ]
    },
    {
      "cell_type": "code",
      "execution_count": 31,
      "metadata": {
        "colab": {
          "base_uri": "https://localhost:8080/"
        },
        "id": "OqAHKMS5GUeg",
        "outputId": "8eaa712f-5c43-4d8a-be0b-ac0913b45ac3"
      },
      "outputs": [
        {
          "output_type": "execute_result",
          "data": {
            "text/plain": [
              "array([[0.1025641 , 0.25      ],\n",
              "       [0.64102564, 0.75      ],\n",
              "       [0.28205128, 0.5       ],\n",
              "       [0.33333333, 0.5       ],\n",
              "       [0.15384615, 0.25      ],\n",
              "       [0.12820513, 0.25      ],\n",
              "       [0.74358974, 0.75      ],\n",
              "       [0.69230769, 0.75      ],\n",
              "       [1.        , 1.        ],\n",
              "       [0.38461538, 0.5       ],\n",
              "       [0.35897436, 0.5       ],\n",
              "       [0.61538462, 0.75      ],\n",
              "       [0.07692308, 0.25      ],\n",
              "       [0.15384615, 0.25      ],\n",
              "       [0.30769231, 0.5       ],\n",
              "       [0.28205128, 0.5       ],\n",
              "       [0.25641026, 0.5       ],\n",
              "       [0.33333333, 0.5       ],\n",
              "       [0.38461538, 0.5       ],\n",
              "       [0.        , 0.        ]])"
            ]
          },
          "metadata": {},
          "execution_count": 31
        }
      ],
      "source": [
        "from sklearn import preprocessing\n",
        "sx = preprocessing.MinMaxScaler()\n",
        "sy = preprocessing.MinMaxScaler()\n",
        "\n",
        "scaled_X = sx.fit_transform(df.drop('price',axis='columns'))\n",
        "scaled_y = sy.fit_transform(df['price'].values.reshape(df.shape[0],1))\n",
        "\n",
        "scaled_X"
      ]
    },
    {
      "cell_type": "code",
      "execution_count": 32,
      "metadata": {
        "colab": {
          "base_uri": "https://localhost:8080/"
        },
        "id": "h-rZgeE6GUeh",
        "outputId": "ec28bde2-054e-4d1f-eadf-3b626112c9b2"
      },
      "outputs": [
        {
          "output_type": "execute_result",
          "data": {
            "text/plain": [
              "array([[0.95211786],\n",
              "       [0.88812155],\n",
              "       [0.24585635],\n",
              "       [0.84300184],\n",
              "       [0.31031308],\n",
              "       [1.        ],\n",
              "       [0.65837937],\n",
              "       [0.95718232],\n",
              "       [0.01933702],\n",
              "       [0.31031308],\n",
              "       [0.31031308],\n",
              "       [0.31031308],\n",
              "       [0.        ],\n",
              "       [0.06537753],\n",
              "       [0.81307551],\n",
              "       [0.31031308],\n",
              "       [0.1878453 ],\n",
              "       [0.31031308],\n",
              "       [0.31031308],\n",
              "       [0.57826888]])"
            ]
          },
          "metadata": {},
          "execution_count": 32
        }
      ],
      "source": [
        "scaled_y"
      ]
    },
    {
      "cell_type": "markdown",
      "metadata": {
        "id": "Tb2O8r2VGUej"
      },
      "source": [
        "##### We should convert target column (i.e. price) into one dimensional array. It has become 2D due to scaling that we did above but now we should change to 1D"
      ]
    },
    {
      "cell_type": "code",
      "execution_count": 35,
      "metadata": {
        "scrolled": true,
        "colab": {
          "base_uri": "https://localhost:8080/"
        },
        "id": "rMjjuiGUGUek",
        "outputId": "7c610158-3925-4e66-de99-a20b4cad4eed"
      },
      "outputs": [
        {
          "output_type": "execute_result",
          "data": {
            "text/plain": [
              "array([0.95211786, 0.88812155, 0.24585635, 0.84300184, 0.31031308,\n",
              "       1.        , 0.65837937, 0.95718232, 0.01933702, 0.31031308,\n",
              "       0.31031308, 0.31031308, 0.        , 0.06537753, 0.81307551,\n",
              "       0.31031308, 0.1878453 , 0.31031308, 0.31031308, 0.57826888])"
            ]
          },
          "metadata": {},
          "execution_count": 35
        }
      ],
      "source": [
        "scaled_y.reshape(20,)\n"
      ]
    },
    {
      "cell_type": "markdown",
      "metadata": {
        "id": "Tc5Df159GUem"
      },
      "source": [
        "##### Gradient descent allows you to find weights (w1,w2,w3) and bias in following linear equation for housing price prediction"
      ]
    },
    {
      "cell_type": "markdown",
      "metadata": {
        "id": "lfg5VY3NGUem"
      },
      "source": [
        "<img src=\"hp.jpg\"/>"
      ]
    },
    {
      "cell_type": "markdown",
      "metadata": {
        "id": "pY18R2gcGUen"
      },
      "source": [
        "##### Now is the time to implement mini batch gradient descent."
      ]
    },
    {
      "cell_type": "code",
      "execution_count": 36,
      "metadata": {
        "scrolled": false,
        "colab": {
          "base_uri": "https://localhost:8080/"
        },
        "id": "AKqrkz1tGUen",
        "outputId": "4431b0e3-1e55-445e-ff0f-f0a29d4c60c1"
      },
      "outputs": [
        {
          "output_type": "execute_result",
          "data": {
            "text/plain": [
              "(array([0.35108631, 0.39646333]), 0.12055377247104777, 0.13981963796364547)"
            ]
          },
          "metadata": {},
          "execution_count": 36
        }
      ],
      "source": [
        "def batch_gradient_descent(X, y_true, epochs, learning_rate = 0.01):\n",
        "\n",
        "    number_of_features = X.shape[1]\n",
        "    # numpy array with 1 row and columns equal to number of features. In\n",
        "    # our case number_of_features = 2 (area, bedroom)\n",
        "    w = np.ones(shape=(number_of_features))\n",
        "    b = 0\n",
        "    total_samples = X.shape[0] # number of rows in X\n",
        "\n",
        "    cost_list = []\n",
        "    epoch_list = []\n",
        "\n",
        "    for i in range(epochs):\n",
        "        y_predicted = np.dot(w, X.T) + b\n",
        "\n",
        "        w_grad = -(2/total_samples)*(X.T.dot(y_true-y_predicted))\n",
        "        b_grad = -(2/total_samples)*np.sum(y_true-y_predicted)\n",
        "\n",
        "        w = w - learning_rate * w_grad\n",
        "        b = b - learning_rate * b_grad\n",
        "\n",
        "        cost = np.mean(np.square(y_true-y_predicted)) # MSE (Mean Squared Error)\n",
        "\n",
        "        if i%10==0:\n",
        "            cost_list.append(cost)\n",
        "            epoch_list.append(i)\n",
        "\n",
        "    return w, b, cost, cost_list, epoch_list\n",
        "\n",
        "w, b, cost, cost_list, epoch_list = batch_gradient_descent(scaled_X,scaled_y.reshape(scaled_y.shape[0],),500)\n",
        "w, b, cost"
      ]
    },
    {
      "cell_type": "markdown",
      "metadata": {
        "id": "qTTaMBwDGUeo"
      },
      "source": [
        "###### Check price equation above. In that equation we were trying to find values of w1,w2 and bias. Here we got these values for each of them,\n",
        "w1 = 0.66469087\n",
        "w2 = 0.60541671\n",
        "bias = -0.17792104056392882"
      ]
    },
    {
      "cell_type": "markdown",
      "metadata": {
        "id": "-Ml21hnQGUep"
      },
      "source": [
        "###### Now plot epoch vs cost graph to see how cost reduces as number of epoch increases"
      ]
    },
    {
      "cell_type": "code",
      "execution_count": 37,
      "metadata": {
        "scrolled": true,
        "colab": {
          "base_uri": "https://localhost:8080/",
          "height": 466
        },
        "id": "UJ8Z4YpEGUep",
        "outputId": "239dbd52-bd85-4f69-9719-840067565550"
      },
      "outputs": [
        {
          "output_type": "execute_result",
          "data": {
            "text/plain": [
              "[<matplotlib.lines.Line2D at 0x7de8dda6eb60>]"
            ]
          },
          "metadata": {},
          "execution_count": 37
        },
        {
          "output_type": "display_data",
          "data": {
            "text/plain": [
              "<Figure size 640x480 with 1 Axes>"
            ],
            "image/png": "[encoded data removed]"
          },
          "metadata": {}
        }
      ],
      "source": [
        "plt.xlabel(\"epoch\")\n",
        "plt.ylabel(\"cost\")\n",
        "plt.plot(epoch_list,cost_list)"
      ]
    },
    {
      "cell_type": "markdown",
      "metadata": {
        "id": "Wj8kPPDHGUeq"
      },
      "source": [
        "###### Lets do some predictions now."
      ]
    },
    {
      "cell_type": "code",
      "execution_count": 38,
      "metadata": {
        "colab": {
          "base_uri": "https://localhost:8080/"
        },
        "id": "Jw1b7t-0GUeq",
        "outputId": "b984ad7a-ea5b-4ccf-fb87-55ce6a5c0889"
      },
      "outputs": [
        {
          "output_type": "stream",
          "name": "stderr",
          "text": [
            "/usr/local/lib/python3.10/dist-packages/sklearn/base.py:439: UserWarning: X does not have valid feature names, but MinMaxScaler was fitted with feature names\n",
            "  warnings.warn(\n"
          ]
        },
        {
          "output_type": "execute_result",
          "data": {
            "text/plain": [
              "2742.3466281036117"
            ]
          },
          "metadata": {},
          "execution_count": 38
        }
      ],
      "source": [
        "def predict(area,bedrooms,w,b):\n",
        "    scaled_X = sx.transform([[area, bedrooms]])[0]\n",
        "    # here w1 = w[0] , w2 = w[1], w3 = w[2] and bias is b\n",
        "    # equation for price is w1*area + w2*bedrooms + w3*age + bias\n",
        "    # scaled_X[0] is area\n",
        "    # scaled_X[1] is bedrooms\n",
        "    # scaled_X[2] is age\n",
        "    scaled_price = w[0] * scaled_X[0] + w[1] * scaled_X[1] + b\n",
        "    # once we get price prediction we need to to rescal it back to original value\n",
        "    # also since it returns 2D array, to get single value we need to do value[0][0]\n",
        "    return sy.inverse_transform([[scaled_price]])[0][0]\n",
        "\n",
        "predict(2600,4,w,b)"
      ]
    },
    {
      "cell_type": "code",
      "execution_count": 39,
      "metadata": {
        "colab": {
          "base_uri": "https://localhost:8080/"
        },
        "id": "pPNapOICGUer",
        "outputId": "020d7b35-b2cd-4435-d4b0-d9bb184ea5a5"
      },
      "outputs": [
        {
          "output_type": "stream",
          "name": "stderr",
          "text": [
            "/usr/local/lib/python3.10/dist-packages/sklearn/base.py:439: UserWarning: X does not have valid feature names, but MinMaxScaler was fitted with feature names\n",
            "  warnings.warn(\n"
          ]
        },
        {
          "output_type": "execute_result",
          "data": {
            "text/plain": [
              "1686.0976408251736"
            ]
          },
          "metadata": {},
          "execution_count": 39
        }
      ],
      "source": [
        "predict(1000,2,w,b)"
      ]
    },
    {
      "cell_type": "code",
      "execution_count": 40,
      "metadata": {
        "scrolled": true,
        "colab": {
          "base_uri": "https://localhost:8080/"
        },
        "id": "jhYzmVDGGUes",
        "outputId": "a81db021-4635-4a8a-c14f-491fb690a9c4"
      },
      "outputs": [
        {
          "output_type": "stream",
          "name": "stderr",
          "text": [
            "/usr/local/lib/python3.10/dist-packages/sklearn/base.py:439: UserWarning: X does not have valid feature names, but MinMaxScaler was fitted with feature names\n",
            "  warnings.warn(\n"
          ]
        },
        {
          "output_type": "execute_result",
          "data": {
            "text/plain": [
              "2096.9052945033973"
            ]
          },
          "metadata": {},
          "execution_count": 40
        }
      ],
      "source": [
        "predict(1500,3,w,b)"
      ]
    },
    {
      "cell_type": "markdown",
      "metadata": {
        "id": "7XqwMSftGUes"
      },
      "source": [
        "<h3 style='color:purple'>(2) Stochastic Gradient Descent Implementation</h3>"
      ]
    },
    {
      "cell_type": "markdown",
      "metadata": {
        "id": "a3sCmNaYGUet"
      },
      "source": [
        "#### Stochastic GD will use randomly picked single training sample to calculate error and using this error we backpropage to adjust weights"
      ]
    },
    {
      "cell_type": "code",
      "execution_count": 41,
      "metadata": {
        "colab": {
          "base_uri": "https://localhost:8080/"
        },
        "id": "kwhrjmApGUet",
        "outputId": "822f4e58-42de-4e78-f571-2546db841e16"
      },
      "outputs": [
        {
          "output_type": "execute_result",
          "data": {
            "text/plain": [
              "6"
            ]
          },
          "metadata": {},
          "execution_count": 41
        }
      ],
      "source": [
        "# we will use random libary to pick random training sample.\n",
        "import random\n",
        "random.randint(0,6) # randit gives random number between two numbers specified in the argument"
      ]
    },
    {
      "cell_type": "code",
      "execution_count": 44,
      "metadata": {
        "colab": {
          "base_uri": "https://localhost:8080/"
        },
        "id": "5h3vMYZeGUeu",
        "outputId": "602aff4d-d787-433e-ba7e-fa860652b5ed"
      },
      "outputs": [
        {
          "output_type": "execute_result",
          "data": {
            "text/plain": [
              "(array([0.3477901 , 0.39499959]), 0.12445557142472767, 0.01868100729502459)"
            ]
          },
          "metadata": {},
          "execution_count": 44
        }
      ],
      "source": [
        "def stochastic_gradient_descent(X, y_true, epochs, learning_rate = 0.01):\n",
        "\n",
        "    number_of_features = X.shape[1]\n",
        "    # numpy array with 1 row and columns equal to number of features. In\n",
        "    # our case number_of_features = 3 (area, bedroom and age)\n",
        "    w = np.ones(shape=(number_of_features))\n",
        "    b = 0\n",
        "    total_samples = X.shape[0]\n",
        "\n",
        "    cost_list = []\n",
        "    epoch_list = []\n",
        "\n",
        "    for i in range(epochs):\n",
        "        random_index = random.randint(0,total_samples-1) # random index from total samples\n",
        "        sample_x = X[random_index]\n",
        "        sample_y = y_true[random_index]\n",
        "\n",
        "        y_predicted = np.dot(w, sample_x.T) + b\n",
        "\n",
        "        w_grad = -(2/total_samples)*(sample_x.T.dot(sample_y-y_predicted))\n",
        "        b_grad = -(2/total_samples)*(sample_y-y_predicted)\n",
        "\n",
        "        w = w - learning_rate * w_grad\n",
        "        b = b - learning_rate * b_grad\n",
        "\n",
        "        cost = np.square(sample_y-y_predicted)\n",
        "\n",
        "        if i%100==0: # at every 100th iteration record the cost and epoch value\n",
        "            cost_list.append(cost)\n",
        "            epoch_list.append(i)\n",
        "\n",
        "    return w, b, cost, cost_list, epoch_list\n",
        "\n",
        "w_sgd, b_sgd, cost_sgd, cost_list_sgd, epoch_list_sgd = stochastic_gradient_descent(scaled_X,scaled_y.reshape(scaled_y.shape[0],),10000)\n",
        "w_sgd, b_sgd, cost_sgd"
      ]
    },
    {
      "cell_type": "markdown",
      "metadata": {
        "id": "kDhYjo4TGUev"
      },
      "source": [
        "Compare this with weights and bias that we got using gradient descent. They both of quite similar."
      ]
    },
    {
      "cell_type": "code",
      "execution_count": 45,
      "metadata": {
        "colab": {
          "base_uri": "https://localhost:8080/"
        },
        "id": "is4yb91lGUev",
        "outputId": "e2338283-4d98-4a0e-c595-7bf9aa809bcd"
      },
      "outputs": [
        {
          "output_type": "execute_result",
          "data": {
            "text/plain": [
              "(array([0.35108631, 0.39646333]), 0.12055377247104777)"
            ]
          },
          "metadata": {},
          "execution_count": 45
        }
      ],
      "source": [
        "w , b"
      ]
    },
    {
      "cell_type": "code",
      "execution_count": 46,
      "metadata": {
        "colab": {
          "base_uri": "https://localhost:8080/",
          "height": 469
        },
        "id": "P8dxvAciGUex",
        "outputId": "55ac97c1-28e6-48db-ea03-415dbafa21b5"
      },
      "outputs": [
        {
          "output_type": "execute_result",
          "data": {
            "text/plain": [
              "[<matplotlib.lines.Line2D at 0x7de8db9d8730>]"
            ]
          },
          "metadata": {},
          "execution_count": 46
        },
        {
          "output_type": "display_data",
          "data": {
            "text/plain": [
              "<Figure size 640x480 with 1 Axes>"
            ],
            "image/png": "[encoded data removed]"
          },
          "metadata": {}
        }
      ],
      "source": [
        "plt.xlabel(\"epoch\")\n",
        "plt.ylabel(\"cost\")\n",
        "plt.plot(epoch_list_sgd,cost_list_sgd)"
      ]
    },
    {
      "cell_type": "code",
      "execution_count": 47,
      "metadata": {
        "colab": {
          "base_uri": "https://localhost:8080/"
        },
        "id": "5eH2W5vNGUex",
        "outputId": "66e1998d-c32f-4bcc-d670-0ed4727bcf7f"
      },
      "outputs": [
        {
          "output_type": "stream",
          "name": "stderr",
          "text": [
            "/usr/local/lib/python3.10/dist-packages/sklearn/base.py:439: UserWarning: X does not have valid feature names, but MinMaxScaler was fitted with feature names\n",
            "  warnings.warn(\n"
          ]
        },
        {
          "output_type": "execute_result",
          "data": {
            "text/plain": [
              "2740.9104045719437"
            ]
          },
          "metadata": {},
          "execution_count": 47
        }
      ],
      "source": [
        "predict(2600,4,w_sgd, b_sgd)"
      ]
    },
    {
      "cell_type": "code",
      "execution_count": 48,
      "metadata": {
        "colab": {
          "base_uri": "https://localhost:8080/"
        },
        "id": "cz73siBPGUey",
        "outputId": "a9c7e877-0cfe-4ec3-b8f5-6e49630634c3"
      },
      "outputs": [
        {
          "output_type": "stream",
          "name": "stderr",
          "text": [
            "/usr/local/lib/python3.10/dist-packages/sklearn/base.py:439: UserWarning: X does not have valid feature names, but MinMaxScaler was fitted with feature names\n",
            "  warnings.warn(\n"
          ]
        },
        {
          "output_type": "execute_result",
          "data": {
            "text/plain": [
              "1692.1253797549564"
            ]
          },
          "metadata": {},
          "execution_count": 48
        }
      ],
      "source": [
        "predict(1000,2,w_sgd, b_sgd)"
      ]
    },
    {
      "cell_type": "code",
      "execution_count": 49,
      "metadata": {
        "colab": {
          "base_uri": "https://localhost:8080/"
        },
        "id": "soGDHxFRGUez",
        "outputId": "8ee0fcc5-e379-4d48-dced-438144034080"
      },
      "outputs": [
        {
          "output_type": "stream",
          "name": "stderr",
          "text": [
            "/usr/local/lib/python3.10/dist-packages/sklearn/base.py:439: UserWarning: X does not have valid feature names, but MinMaxScaler was fitted with feature names\n",
            "  warnings.warn(\n"
          ]
        },
        {
          "output_type": "execute_result",
          "data": {
            "text/plain": [
              "2100.3024917736966"
            ]
          },
          "metadata": {},
          "execution_count": 49
        }
      ],
      "source": [
        "predict(1500,3,w_sgd, b_sgd)"
      ]
    }
  ],
  "metadata": {
    "kernelspec": {
      "display_name": "Python 3",
      "language": "python",
      "name": "python3"
    },
    "language_info": {
      "codemirror_mode": {
        "name": "ipython",
        "version": 3
      },
      "file_extension": ".py",
      "mimetype": "text/x-python",
      "name": "python",
      "nbconvert_exporter": "python",
      "pygments_lexer": "ipython3",
      "version": "3.8.5"
    },
    "colab": {
      "provenance": []
    }
  },
  "nbformat": 4,
  "nbformat_minor": 0
}