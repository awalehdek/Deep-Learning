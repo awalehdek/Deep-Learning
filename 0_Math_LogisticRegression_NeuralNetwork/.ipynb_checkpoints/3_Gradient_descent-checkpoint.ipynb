{
 "cells": [
  {
   "cell_type": "markdown",
   "id": "428c2c6e-67df-4ba3-bcd4-e8f11825a56b",
   "metadata": {},
   "source": [
    "# Sigmoid Gradient: \n",
    "Compute gradients to optimize loss functions using backpropagation.\n",
    "\n",
    "$$sigmoid\\_derivative(x) = \\sigma'(x) = \\sigma(x) (1 - \\sigma(x))\\tag{2}$$\n",
    "\n",
    "1. Set s to be the sigmoid of x.\n",
    "2. Compute $\\sigma'(x) = s(1-s)$"
   ]
  },
  {
   "cell_type": "code",
   "execution_count": null,
   "id": "3286b960-4e45-43ea-864a-045a576f5991",
   "metadata": {},
   "outputs": [],
   "source": [
    "def sigmoid_derivative(x):\n",
    "    s = 1/(1+np.exp(-x))\n",
    "    # derivative of s\n",
    "    ds = s*(1-s)\n",
    "\n",
    "    return ds\n",
    "    "
   ]
  },
  {
   "cell_type": "markdown",
   "id": "40b3c6aa-4837-42e1-a2d3-61c08bfbe038",
   "metadata": {},
   "source": [
    "# Definition\n",
    "#### Gradient descent is an algorithm that finds the lowest point of a function by iteratively moving in the direction of the steepest descent.\n"
   ]
  }
 ],
 "metadata": {
  "kernelspec": {
   "display_name": "Python 3 (ipykernel)",
   "language": "python",
   "name": "python3"
  },
  "language_info": {
   "codemirror_mode": {
    "name": "ipython",
    "version": 3
   },
   "file_extension": ".py",
   "mimetype": "text/x-python",
   "name": "python",
   "nbconvert_exporter": "python",
   "pygments_lexer": "ipython3",
   "version": "3.10.12"
  }
 },
 "nbformat": 4,
 "nbformat_minor": 5
}
