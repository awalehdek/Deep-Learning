{
 "cells": [
  {
   "cell_type": "markdown",
   "id": "ba4237f4-0ded-433e-b76e-914805fbff36",
   "metadata": {},
   "source": [
    "## A - Building basic functions with numpy ##\n",
    "\n",
    "Numpy is the main package for scientific computing in Python. It is maintained by a large community (www.numpy.org). In this exercise you will learn several key numpy functions such as `np.exp`, `np.log`, and `np.reshape`. You will need to know how to use these functions for future assignments.\n",
    "\n",
    "\n",
    "### 1.1 - sigmoid function, np.exp() ###\n",
    "\n",
    "Before using `np.exp()`, you will use `math.exp()` to implement the sigmoid function. You will then see why `np.exp()` is preferable to `math.exp()`.\n",
    "\n",
    "\n",
    "### Exercise 1 - basic_sigmoid\n",
    "Build a function that returns the sigmoid of a real number x. Use `math.exp(x)` for the exponential function.\n",
    "\n",
    "**Reminder**:\n",
    "$sigmoid(x) = \\frac{1}{1+e^{-x}}$ is sometimes also known as the logistic function. It is a non-linear function used not only in Machine Learning (Logistic Regression), but also in Deep Learning.\n",
    "\n"
   ]
  },
  {
   "cell_type": "code",
   "execution_count": 3,
   "id": "575df383-2383-4fbb-8941-0014f1bac26c",
   "metadata": {},
   "outputs": [
    {
     "name": "stdout",
     "output_type": "stream",
     "text": [
      "0.6224593312018546\n"
     ]
    }
   ],
   "source": [
    "import math\n",
    "def sigmoid_math(x):\n",
    "    \n",
    "    s= 1/(1+math.exp(-x))\n",
    "    return s\n",
    "\n",
    "x = 0.5\n",
    "print(sigmoid_math(x))"
   ]
  },
  {
   "cell_type": "markdown",
   "id": "4182f4eb-e02d-445d-8a3b-11cd64549c63",
   "metadata": {},
   "source": [
    "### Why np.exp(): \n",
    "\n",
    "**Vectorization**: np.exp operates on entire arrays (or matrices) of values at once, making it highly efficient for performing element-wise operations. \n",
    "\n",
    "**Performance**: Using np.exp with NumPy arrays takes advantage of NumPy's optimized C-based implementation, leading to faster execution for large datasets. \n",
    "\n",
    "**Broadcasting**: np.exp supports broadcasting, meaning it can handle inputs of different shapes and sizes and apply the operation correctly"
   ]
  },
  {
   "cell_type": "code",
   "execution_count": 4,
   "id": "1081abbd-c80b-4d40-a0c6-481fce75b1b6",
   "metadata": {},
   "outputs": [
    {
     "name": "stdout",
     "output_type": "stream",
     "text": [
      "[0.62245933 0.73105858 0.18242552 0.88079708]\n"
     ]
    }
   ],
   "source": [
    "import numpy as np\n",
    "\n",
    "# Sigmoid function using np.exp (vectorized version)\n",
    "def sigmoid_numpy(x):\n",
    "    return 1 / (1 + np.exp(-x))\n",
    "\n",
    "# Example input (array of values)\n",
    "x = np.array([0.5, 1.0, -1.5, 2.0])\n",
    "print(sigmoid_numpy(x))  \n"
   ]
  },
  {
   "cell_type": "markdown",
   "id": "ccdfc16f-a652-4f7d-8c22-553a77ad4009",
   "metadata": {},
   "source": [
    "\n",
    "**Instructions**: x can be either a real number, a vector, or a matrix. The data structures we use in numpy to represent these shapes (vectors, matrices...) are called numpy arrays. You don't need to know more for now.\n",
    "$$ \\text{For } x \\in \\mathbb{R}^n \\text{,     } sigmoid(x) = sigmoid\\begin{pmatrix}\n",
    "    x_1  \\\\\n",
    "    x_2  \\\\\n",
    "    ...  \\\\\n",
    "    x_n  \\\\\n",
    "\\end{pmatrix} = \\begin{pmatrix}\n",
    "    \\frac{1}{1+e^{-x_1}}  \\\\\n",
    "    \\frac{1}{1+e^{-x_2}}  \\\\\n",
    "    ...  \\\\\n",
    "    \\frac{1}{1+e^{-x_n}}  \\\\\n",
    "\\end{pmatrix}\\tag{1} $$"
   ]
  },
  {
   "cell_type": "code",
   "execution_count": null,
   "id": "e631c06e-c0d8-4729-a9cf-19d0905ca0dc",
   "metadata": {},
   "outputs": [],
   "source": []
  }
 ],
 "metadata": {
  "kernelspec": {
   "display_name": "Python 3 (ipykernel)",
   "language": "python",
   "name": "python3"
  },
  "language_info": {
   "codemirror_mode": {
    "name": "ipython",
    "version": 3
   },
   "file_extension": ".py",
   "mimetype": "text/x-python",
   "name": "python",
   "nbconvert_exporter": "python",
   "pygments_lexer": "ipython3",
   "version": "3.10.12"
  }
 },
 "nbformat": 4,
 "nbformat_minor": 5
}
