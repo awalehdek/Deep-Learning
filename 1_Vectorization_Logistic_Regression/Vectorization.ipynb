{
 "cells": [
  {
   "cell_type": "code",
   "execution_count": 2,
   "id": "fad674c1-985a-49d3-9137-8926b36587ef",
   "metadata": {},
   "outputs": [],
   "source": [
    "import numpy as np\n",
    "import time"
   ]
  },
  {
   "cell_type": "code",
   "execution_count": 3,
   "id": "04937f4e-6b2e-4c12-b8e7-4712cee7f854",
   "metadata": {},
   "outputs": [
    {
     "name": "stdout",
     "output_type": "stream",
     "text": [
      "249948.85735035123\n",
      "Vectorized version: 4.953861236572266 ms\n"
     ]
    }
   ],
   "source": [
    "\n",
    "# Generate two large random vectors\n",
    "a = np.random.rand(1000000)\n",
    "b = np.random.rand(1000000)\n",
    "\n",
    "# Vectorized version\n",
    "tic = time.time()\n",
    "c = np.dot(a, b)\n",
    "toc = time.time()\n",
    "\n",
    "print(c)\n",
    "print(\"Vectorized version: \" + str(1000 * (toc - tic)) + \" ms\")\n",
    "\n"
   ]
  },
  {
   "cell_type": "markdown",
   "id": "53690a11-b128-4a41-9b26-791301fa266c",
   "metadata": {},
   "source": [
    "## Dot product is 400 time or more faster than for loop version"
   ]
  },
  {
   "cell_type": "code",
   "execution_count": 4,
   "id": "9b36b437-6db3-45f7-be0a-dd9c4dcfb227",
   "metadata": {},
   "outputs": [
    {
     "name": "stdout",
     "output_type": "stream",
     "text": [
      "249948.8573503558\n",
      "For loop version: 727.2939682006836 ms\n"
     ]
    }
   ],
   "source": [
    "\n",
    "# For loop version\n",
    "c = 0\n",
    "tic = time.time()\n",
    "for i in range(1000000):\n",
    "    c += a[i] * b[i]\n",
    "toc = time.time()\n",
    "\n",
    "print(c)\n",
    "print(\"For loop version: \" + str(1000 * (toc - tic)) + \" ms\")\n"
   ]
  },
  {
   "cell_type": "code",
   "execution_count": 6,
   "id": "78927c1e-8868-4b35-a75d-23ad4137a24e",
   "metadata": {},
   "outputs": [
    {
     "name": "stdout",
     "output_type": "stream",
     "text": [
      "time_loop: 0.005976676940917969\n",
      "time_np: 9.751319885253906e-05\n"
     ]
    }
   ],
   "source": [
    "\n",
    "\n",
    "# Example 1: Element-wise Addition\n",
    "\n",
    "# Using a for loop\n",
    "data1 = list(range(1, 10000))\n",
    "data2 = list(range(1, 10000))\n",
    "\n",
    "start_time_loop = time.time()\n",
    "result_loop = [data1[i] + data2[i] for i in range(len(data1))]\n",
    "end_time_loop = time.time()\n",
    "\n",
    "time_loop = end_time_loop - start_time_loop\n",
    "\n",
    "print(\"time_loop:\", time_loop)\n",
    "# Using NumPy vectorization\n",
    "data1_np = np.arange(1, 10000)\n",
    "data2_np = np.arange(1, 10000)\n",
    "\n",
    "start_time_np = time.time()\n",
    "result_np = data1_np + data2_np\n",
    "end_time_np = time.time()\n",
    "\n",
    "time_np = end_time_np - start_time_np\n",
    "\n",
    "print(\"time_np:\", time_np)"
   ]
  },
  {
   "cell_type": "code",
   "execution_count": 7,
   "id": "59c7f199-0b1a-4bd8-af91-c7ae64cbad75",
   "metadata": {},
   "outputs": [
    {
     "name": "stdout",
     "output_type": "stream",
     "text": [
      "time_loop_dot: 0.002742290496826172\n",
      "time_np_dot: 9.822845458984375e-05\n"
     ]
    }
   ],
   "source": [
    "# Example 2: Dot Product\n",
    "\n",
    "# Using a for loop\n",
    "vector1 = list(range(1, 10000))\n",
    "vector2 = list(range(1, 10000))\n",
    "\n",
    "start_time_loop_dot = time.time()\n",
    "dot_product_loop = sum([vector1[i] * vector2[i] for i in range(len(vector1))])\n",
    "end_time_loop_dot = time.time()\n",
    "\n",
    "time_loop_dot = end_time_loop_dot - start_time_loop_dot\n",
    "\n",
    "print(\"time_loop_dot:\", time_loop_dot)\n",
    "# Using NumPy vectorization\n",
    "vector1_np = np.arange(1, 10000)\n",
    "vector2_np = np.arange(1, 10000)\n",
    "\n",
    "start_time_np_dot = time.time()\n",
    "dot_product_np = np.dot(vector1_np, vector2_np)\n",
    "end_time_np_dot = time.time()\n",
    "\n",
    "time_np_dot = end_time_np_dot - start_time_np_dot\n",
    "\n",
    "print(\"time_np_dot:\", time_np_dot)"
   ]
  },
  {
   "cell_type": "code",
   "execution_count": null,
   "id": "0f54ab88-b544-47c7-a3a1-1e4d8eeefb98",
   "metadata": {},
   "outputs": [],
   "source": []
  }
 ],
 "metadata": {
  "kernelspec": {
   "display_name": "Python 3 (ipykernel)",
   "language": "python",
   "name": "python3"
  },
  "language_info": {
   "codemirror_mode": {
    "name": "ipython",
    "version": 3
   },
   "file_extension": ".py",
   "mimetype": "text/x-python",
   "name": "python",
   "nbconvert_exporter": "python",
   "pygments_lexer": "ipython3",
   "version": "3.10.12"
  }
 },
 "nbformat": 4,
 "nbformat_minor": 5
}
