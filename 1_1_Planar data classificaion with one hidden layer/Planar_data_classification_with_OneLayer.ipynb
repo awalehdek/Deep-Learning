{
 "cells": [
  {
   "cell_type": "markdown",
   "id": "6e49285a-d268-4e03-99d0-fd809613de26",
   "metadata": {},
   "source": [
    "# Let's build first neural network, which will have one hidden layer and check the difference with logistic regression\n"
   ]
  },
  {
   "cell_type": "code",
   "execution_count": 2,
   "id": "e8c472d8-e313-4c7b-9a92-af4fddb4b08b",
   "metadata": {},
   "outputs": [],
   "source": [
    "import numpy as np\n",
    "import copy\n",
    "import matplotlib.pyplot as plt\n",
    "import sklearn\n",
    "import sklearn.datasets\n",
    "import sklearn.linear_model\n",
    "\n",
    "\n",
    "%matplotlib inline\n",
    "\n",
    "%load_ext autoreload\n",
    "%autoreload 2"
   ]
  },
  {
   "cell_type": "code",
   "execution_count": 3,
   "id": "4e9493c8-d56c-4e19-8e10-1b19020a7396",
   "metadata": {},
   "outputs": [
    {
     "ename": "ModuleNotFoundError",
     "evalue": "No module named 'planar_utils'",
     "output_type": "error",
     "traceback": [
      "\u001b[0;31m---------------------------------------------------------------------------\u001b[0m",
      "\u001b[0;31mModuleNotFoundError\u001b[0m                       Traceback (most recent call last)",
      "Cell \u001b[0;32mIn[3], line 1\u001b[0m\n\u001b[0;32m----> 1\u001b[0m \u001b[38;5;28;01mfrom\u001b[39;00m \u001b[38;5;21;01mplanar_utils\u001b[39;00m \u001b[38;5;28;01mimport\u001b[39;00m plot_decision_boundary, sigmoid, load_planar_dataset, load_extra_datasets\n",
      "\u001b[0;31mModuleNotFoundError\u001b[0m: No module named 'planar_utils'"
     ]
    }
   ],
   "source": [
    "from planar_utils import plot_decision_boundary, sigmoid, load_planar_dataset, load_extra_datasets"
   ]
  },
  {
   "cell_type": "code",
   "execution_count": 4,
   "id": "3bc8d008-1138-4bdc-b024-7b36f2cb01f0",
   "metadata": {},
   "outputs": [
    {
     "ename": "NameError",
     "evalue": "name 'load_planar_dataset' is not defined",
     "output_type": "error",
     "traceback": [
      "\u001b[0;31m---------------------------------------------------------------------------\u001b[0m",
      "\u001b[0;31mNameError\u001b[0m                                 Traceback (most recent call last)",
      "Cell \u001b[0;32mIn[4], line 3\u001b[0m\n\u001b[1;32m      1\u001b[0m \u001b[38;5;66;03m# Import dataset\u001b[39;00m\n\u001b[0;32m----> 3\u001b[0m X, Y \u001b[38;5;241m=\u001b[39m \u001b[43mload_planar_dataset\u001b[49m()\n",
      "\u001b[0;31mNameError\u001b[0m: name 'load_planar_dataset' is not defined"
     ]
    }
   ],
   "source": [
    "# Import dataset\n",
    "\n",
    "X, Y = load_planar_dataset()"
   ]
  },
  {
   "cell_type": "code",
   "execution_count": null,
   "id": "ca128fc1-bac5-4a35-a14e-5e72b72c9375",
   "metadata": {},
   "outputs": [],
   "source": []
  }
 ],
 "metadata": {
  "kernelspec": {
   "display_name": "Python 3 (ipykernel)",
   "language": "python",
   "name": "python3"
  },
  "language_info": {
   "codemirror_mode": {
    "name": "ipython",
    "version": 3
   },
   "file_extension": ".py",
   "mimetype": "text/x-python",
   "name": "python",
   "nbconvert_exporter": "python",
   "pygments_lexer": "ipython3",
   "version": "3.10.12"
  }
 },
 "nbformat": 4,
 "nbformat_minor": 5
}
